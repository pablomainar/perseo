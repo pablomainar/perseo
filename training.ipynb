{
 "cells": [
  {
   "cell_type": "code",
   "execution_count": null,
   "metadata": {},
   "outputs": [],
   "source": [
    "%load_ext autoreload\n",
    "%autoreload 2\n",
    "%matplotlib widget\n",
    "\n",
    "from dataset import OCRDataset\n",
    "from trainer import Trainer\n",
    "from transformers import VisionEncoderDecoderModel, BeitImageProcessor, RobertaTokenizer\n",
    "from transformers import BeitConfig, RobertaConfig, VisionEncoderDecoderConfig\n",
    "from PIL import Image\n",
    "import requests\n",
    "import torch\n",
    "import torch.nn as nn\n",
    "from torch.utils.data import Dataset\n",
    "from torchvision.io import read_image\n",
    "from torch.utils.data import DataLoader\n",
    "import torchvision\n",
    "import os\n",
    "import time\n",
    "import matplotlib.pyplot as plt\n",
    "import numpy as np"
   ]
  },
  {
   "cell_type": "code",
   "execution_count": null,
   "metadata": {},
   "outputs": [],
   "source": [
    "device = torch.device('cuda' if torch.cuda.is_available() else 'cpu')\n",
    "tokenizer = RobertaTokenizer.from_pretrained('PlanTL-GOB-ES/roberta-base-bne')"
   ]
  },
  {
   "cell_type": "code",
   "execution_count": null,
   "metadata": {},
   "outputs": [],
   "source": [
    "encoder_config = BeitConfig()\n",
    "encoder_config.image_size = (32,1200)\n",
    "\n",
    "#decoder_config = RobertaConfig()\n",
    "#model.config.decoder_start_token_id = tokenizer.cls_token_id\n",
    "#model.config.pad_token_id = tokenizer.pad_token_id\n",
    "\n",
    "model = VisionEncoderDecoderModel.from_encoder_decoder_pretrained('microsoft/beit-base-patch16-224', 'PlanTL-GOB-ES/roberta-base-bne', encoder_config=encoder_config)\n",
    "model.config.decoder_start_token_id = tokenizer.cls_token_id\n",
    "model.config.pad_token_id = tokenizer.pad_token_id\n",
    "model = nn.DataParallel(model)\n",
    "model.to(device)\n",
    "#print(model.encoder.embeddings.patch_embeddings.image_size)\n",
    "print()"
   ]
  },
  {
   "cell_type": "code",
   "execution_count": null,
   "metadata": {},
   "outputs": [],
   "source": [
    "\n",
    "\n",
    "train_dataset = OCRDataset(tokenizer=tokenizer, device=device, test=False)\n",
    "test_dataset = OCRDataset(tokenizer=tokenizer, device=device, test=True)\n",
    "train_dataloader = DataLoader(train_dataset, batch_size=10, shuffle=True)\n",
    "test_dataloader = DataLoader(test_dataset, batch_size=10, shuffle=True)\n",
    "loss_fn = torch.nn.CrossEntropyLoss()\n",
    "optimizer = torch.optim.AdamW(params=model.parameters(), lr=5e-5)\n",
    "trainer = Trainer(model=model, optimizer=optimizer, device=device, nb_epochs=20)\n",
    "trainer.train(train_dataloader=train_dataloader, test_dataloader=test_dataloader)"
   ]
  },
  {
   "cell_type": "code",
   "execution_count": null,
   "metadata": {},
   "outputs": [],
   "source": [
    "from torchvision.transforms import Resize\n",
    "image, label, mask = next(iter(train_dataloader))\n",
    "data_path = \"data/test/out/\"\n",
    "files = os.listdir(data_path)\n",
    "'''img_path = os.path.join(data_path, files[0])\n",
    "image = read_image(img_path)\n",
    "image = image.float() / 255\n",
    "image_resizer = Resize((32, 1200), antialias=True)\n",
    "image = image_resizer(image)\n",
    "image = image.unsqueeze(0)\n",
    "image = image.to(device)\n",
    "print(image.shape)'''\n",
    "image = image[0:1]\n",
    "generated_ids = model.generate(image)\n",
    "generated_text = tokenizer.batch_decode(generated_ids, skip_special_tokens=True)\n",
    "print(generated_text)\n",
    "nb_ids_label = [1 if mask[i] == 1 else 0 for i in range(len(mask))]\n",
    "nb_ids_label = np.sum(nb_ids_label)\n",
    "label = label[:,:nb_ids_label]\n",
    "label = tokenizer.batch_decode(label, skip_special_tokens=True)\n",
    "print(label)\n",
    "print(generated_text)"
   ]
  }
 ],
 "metadata": {
  "kernelspec": {
   "display_name": "Python 3.11.3 ('perseo')",
   "language": "python",
   "name": "python3"
  },
  "language_info": {
   "codemirror_mode": {
    "name": "ipython",
    "version": 3
   },
   "file_extension": ".py",
   "mimetype": "text/x-python",
   "name": "python",
   "nbconvert_exporter": "python",
   "pygments_lexer": "ipython3",
   "version": "3.10.0"
  },
  "orig_nbformat": 4,
  "vscode": {
   "interpreter": {
    "hash": "a5602ff594ba5ec08fbb92ef3d11f82128b098b799aab6fd9efd6affa164d247"
   }
  }
 },
 "nbformat": 4,
 "nbformat_minor": 2
}
