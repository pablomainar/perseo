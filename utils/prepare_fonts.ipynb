{
 "cells": [
  {
   "cell_type": "markdown",
   "metadata": {},
   "source": [
    "This notebook is used to prepare the handwritten fonts.\n",
    "\n",
    "It expects a folder called `fonts` with two subdirectories: `zips` and `ttfs`. \n",
    "+ `zips` must be filled manuallly with downloaded zip files with fonts. They can be downloaded from [Google Fonts](https://fonts.google.com/?category=Handwriting&preview.size=35&classification=Handwriting&subset=latin&noto.script=Latn) or from [Handwritten Fonts](https://www.1001fonts.com/handwritten-fonts.html)\n",
    "+ `ttfs` will contain the extracted ttf files from all the zip folders. If `ttfs` has anything inside, it will be removed at the beginning of the script."
   ]
  },
  {
   "cell_type": "code",
   "execution_count": 1,
   "metadata": {},
   "outputs": [],
   "source": [
    "import zipfile\n",
    "import os\n",
    "import shutil"
   ]
  },
  {
   "cell_type": "code",
   "execution_count": 2,
   "metadata": {},
   "outputs": [
    {
     "name": "stdout",
     "output_type": "stream",
     "text": [
      "Extracted 753 zip files\n",
      "Generated 686 ttf files\n"
     ]
    }
   ],
   "source": [
    "path_zips = os.path.join(\"fonts\", \"zips\")\n",
    "path_ttfs = os.path.join(\"fonts\", \"ttfs\")\n",
    "\n",
    "if os.path.exists(path_ttfs):\n",
    "    shutil.rmtree(path_ttfs)\n",
    "os.makedirs(path_ttfs)\n",
    "\n",
    "# Clean the zip folder in case a previous run was interrupted\n",
    "for p in os.listdir(path_zips):\n",
    "    if not p.endswith(\".zip\"):\n",
    "        if os.path.isdir(os.path.join(path_zips, p)):\n",
    "            shutil.rmtree(os.path.join(path_zips, p))\n",
    "        else:\n",
    "            os.remove(os.path.join(path_zips, p))\n",
    "    \n",
    "for path_zip in os.listdir(path_zips):\n",
    "    path_zip = os.path.join(path_zips, path_zip)\n",
    "    with zipfile.ZipFile(path_zip, 'r') as zip_ref:\n",
    "        zip_ref.extractall(path_zips)\n",
    "    \n",
    "for p in os.listdir(path_zips):\n",
    "    if p.endswith(\".ttf\"):\n",
    "        if p[0] == \".\":\n",
    "            os.remove(os.path.join(path_zips, p))\n",
    "            continue\n",
    "        shutil.move(os.path.join(path_zips, p), os.path.join(path_ttfs, p))\n",
    "    elif p.endswith(\".zip\"):\n",
    "        continue\n",
    "    else:\n",
    "        if os.path.isdir(os.path.join(path_zips, p)):\n",
    "            shutil.rmtree(os.path.join(path_zips, p))\n",
    "        else:\n",
    "            os.remove(os.path.join(path_zips, p))\n",
    "\n",
    "print(\"Extracted \" + str(len(os.listdir(path_zips))) + \" zip files\")\n",
    "print(\"Generated \" + str(len(os.listdir(path_ttfs))) + \" ttf files\")"
   ]
  },
  {
   "cell_type": "markdown",
   "metadata": {},
   "source": [
    "Now from the extracts ttfs, I test those that have support for accents"
   ]
  },
  {
   "cell_type": "code",
   "execution_count": 3,
   "metadata": {},
   "outputs": [
    {
     "name": "stderr",
     "output_type": "stream",
     "text": [
      "cmap subtable is reported as having zero length: platformID 1, platEncID 0, format 0 offset 20. Skipping table.\n",
      "cmap subtable is reported as having zero length: platformID 1, platEncID 0, format 0 offset 20. Skipping table.\n"
     ]
    },
    {
     "name": "stdout",
     "output_type": "stream",
     "text": [
      "Kept 272 fonts with all required glyphs\n"
     ]
    }
   ],
   "source": [
    "from fontTools.ttLib import TTFont\n",
    "from fontTools.unicode import Unicode\n",
    "\n",
    "def has_glyph(font, glyph):\n",
    "    for table in font['cmap'].tables:\n",
    "        if ord(glyph) in table.cmap.keys():\n",
    "            return True\n",
    "    return False\n",
    "\n",
    "count = 0\n",
    "for path_font in os.listdir(os.path.join(\"fonts\", \"ttfs\")):\n",
    "    font = TTFont(os.path.join(\"fonts\", \"ttfs\", path_font))\n",
    "    if has_glyph(font, 'á') and has_glyph(font, 'é') and has_glyph(font, 'í') and has_glyph(font, 'ó') and has_glyph(font, 'ú') and has_glyph(font, 'ñ') and has_glyph(font, 'ü') and has_glyph(font, '¿') and has_glyph(font, '¡') and has_glyph(font, 'Á') and has_glyph(font, 'É') and has_glyph(font, 'Í') and has_glyph(font, 'Ó') and has_glyph(font, 'Ú') and has_glyph(font, 'Ñ') and has_glyph(font, 'Ü') and has_glyph(font, '€'):\n",
    "        count += 1\n",
    "    else:\n",
    "        os.remove(os.path.join(\"fonts\", \"ttfs\", path_font))\n",
    "print(\"Kept \" + str(count) + \" fonts with all required glyphs\")"
   ]
  },
  {
   "cell_type": "code",
   "execution_count": null,
   "metadata": {},
   "outputs": [],
   "source": []
  }
 ],
 "metadata": {
  "kernelspec": {
   "display_name": "perseo",
   "language": "python",
   "name": "python3"
  },
  "language_info": {
   "codemirror_mode": {
    "name": "ipython",
    "version": 3
   },
   "file_extension": ".py",
   "mimetype": "text/x-python",
   "name": "python",
   "nbconvert_exporter": "python",
   "pygments_lexer": "ipython3",
   "version": "3.10.0"
  }
 },
 "nbformat": 4,
 "nbformat_minor": 2
}
