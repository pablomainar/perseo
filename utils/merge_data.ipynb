{
 "cells": [
  {
   "cell_type": "code",
   "execution_count": null,
   "metadata": {},
   "outputs": [],
   "source": [
    "import pandas as pd\n",
    "import os\n",
    "import numpy as np\n",
    "import shutil\n",
    "from distutils.dir_util import copy_tree\n",
    "from transformers import RobertaTokenizer\n"
   ]
  },
  {
   "cell_type": "code",
   "execution_count": null,
   "metadata": {},
   "outputs": [],
   "source": [
    "# Merge folders into one: Training set\n",
    "nb_folders = 9\n",
    "\n",
    "all_path = \"../data_handwritten\"\n",
    "if os.path.exists(all_path):\n",
    "    shutil.rmtree(all_path)\n",
    "os.mkdir(all_path)\n",
    "df = pd.DataFrame(columns=[\"path\", \"text\"])\n",
    "\n",
    "for folder_id in range(1,nb_folders+1):\n",
    "    print(folder_id)\n",
    "    path_original_folder = \"data_handwritten_\" + str(folder_id)\n",
    "    os.mkdir(os.path.join(all_path, path_original_folder))\n",
    "    df_original = pd.read_csv(os.path.join(\"..\", path_original_folder, \"train.csv\"))\n",
    "    df_original[\"path\"] = path_original_folder + \"/\" + df_original[\"path\"]\n",
    "    df = pd.concat([df, df_original], ignore_index=True)\n",
    "    copy_tree(os.path.join(\"..\", path_original_folder, \"train\"), os.path.join(all_path, path_original_folder))\n",
    "df.to_csv(os.path.join(all_path, \"train.csv\"), index=False)"
   ]
  },
  {
   "cell_type": "code",
   "execution_count": null,
   "metadata": {},
   "outputs": [],
   "source": [
    "# Small modification to the test set to fix the paths\n",
    "# Caution, only run once!\n",
    "df_original = pd.read_csv(os.path.join(\"..\", \"data_handwritten_test\", \"test.csv\"))\n",
    "df_original[\"path\"] = \"test/\" + df_original[\"path\"]\n",
    "df_original.to_csv(os.path.join(\"..\", \"data_handwritten_test\", \"test.csv\"), index=False)"
   ]
  },
  {
   "cell_type": "code",
   "execution_count": null,
   "metadata": {},
   "outputs": [],
   "source": [
    "# Preprocess the dataframe to save time afterwards\n",
    "from transformers import RobertaTokenizer\n",
    "\n",
    "set_ = \"test\" # train or test\n",
    "\n",
    "if set_ == \"test\":\n",
    "    path = \"data_handwritten_test\"\n",
    "elif set_ == \"train\":\n",
    "    path = \"data_handwritten\"\n",
    "tokenizer = RobertaTokenizer.from_pretrained('PlanTL-GOB-ES/roberta-base-bne')\n",
    "df = pd.read_csv(os.path.join(\"..\", path, set_+\".csv\"))\n",
    "df[\"tokenizer_out\"] = df[\"text\"].apply(lambda x: tokenizer(x))\n",
    "df[\"tokens\"] = df[\"tokenizer_out\"].apply(lambda x: x[\"input_ids\"])\n",
    "df[\"attention_mask\"] = df[\"tokenizer_out\"].apply(lambda x: x[\"attention_mask\"])\n",
    "df[\"token_length\"] = df[\"tokens\"].apply(lambda x: len(x))\n",
    "df.drop(columns=[\"tokenizer_out\"], inplace=True)\n",
    "df = df.loc[df[\"token_length\"] <= 512] # This should be fixed in the data_generator: when there are too many tokens, not save.\n",
    "# df.drop_duplicates(subset=[\"path\"], inplace=True) # This should be fixed in data_generator: for some reason we get many duplicates: UPDATE: Solved\n",
    "df.to_csv(os.path.join(\"..\", path, set_+\"_tokens.csv\"), index=False)"
   ]
  }
 ],
 "metadata": {
  "kernelspec": {
   "display_name": "perseo",
   "language": "python",
   "name": "python3"
  },
  "language_info": {
   "codemirror_mode": {
    "name": "ipython",
    "version": 3
   },
   "file_extension": ".py",
   "mimetype": "text/x-python",
   "name": "python",
   "nbconvert_exporter": "python",
   "pygments_lexer": "ipython3",
   "version": "3.10.0"
  }
 },
 "nbformat": 4,
 "nbformat_minor": 2
}
