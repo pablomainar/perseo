{
 "cells": [
  {
   "cell_type": "code",
   "execution_count": null,
   "metadata": {},
   "outputs": [],
   "source": [
    "import pandas as pd\n",
    "import os\n",
    "import numpy as np\n",
    "import shutil\n",
    "from distutils.dir_util import copy_tree\n",
    "from transformers import RobertaTokenizer"
   ]
  },
  {
   "cell_type": "code",
   "execution_count": null,
   "metadata": {},
   "outputs": [],
   "source": [
    "# Merge folders into one\n",
    "nb_folders = 9\n",
    "\n",
    "all_path = \"data_all\"\n",
    "if os.path.exists(all_path):\n",
    "    shutil.rmtree(all_path)\n",
    "os.mkdir(all_path)\n",
    "df = pd.DataFrame(columns=[\"path\", \"text\"])\n",
    "\n",
    "for folder_id in range(1,nb_folders+1):\n",
    "    path_original_folder = \"data_\" + str(folder_id)\n",
    "    os.mkdir(os.path.join(all_path, path_original_folder))\n",
    "    df_original = pd.read_csv(os.path.join(path_original_folder, \"train.csv\"))\n",
    "    df_original[\"path\"] = path_original_folder + \"/\" + df_original[\"path\"]\n",
    "    df = pd.concat([df, df_original], ignore_index=True)\n",
    "    copy_tree(os.path.join(path_original_folder, \"train\"), os.path.join(all_path, path_original_folder))\n",
    "df.to_csv(os.path.join(all_path, \"train.csv\"), index=False)"
   ]
  },
  {
   "cell_type": "code",
   "execution_count": null,
   "metadata": {},
   "outputs": [],
   "source": [
    "# Preprocess the dataframe to save time afterwards\n",
    "from transformers import RobertaTokenizer\n",
    "\n",
    "tokenizer = RobertaTokenizer.from_pretrained('PlanTL-GOB-ES/roberta-base-bne')\n",
    "\n",
    "df = pd.read_csv(os.path.join(\"data_all\", \"train.csv\"))\n",
    "df[\"tokenizer_out\"] = df[\"text\"].apply(lambda x: tokenizer(x))\n",
    "df[\"tokens\"] = df[\"tokenizer_out\"].apply(lambda x: x[\"input_ids\"])\n",
    "df[\"attention_mask\"] = df[\"tokenizer_out\"].apply(lambda x: x[\"attention_mask\"])\n",
    "df[\"token_length\"] = df[\"tokens\"].apply(lambda x: len(x))\n",
    "df.drop(columns=[\"tokenizer_out\"], inplace=True)\n",
    "df = df.loc[df[\"token_length\"] <= 512] # This should be fixed in the data_generator: when there are too many tokens, not save.\n",
    "df.drop_duplicates(subset=[\"path\"], inplace=True) # This should be fixed in data_generator: for some reason we get many duplicates\n",
    "df.to_csv(os.path.join(\"data_all\", \"train_tokens.csv\"), index=False)"
   ]
  }
 ],
 "metadata": {
  "kernelspec": {
   "display_name": "perseo",
   "language": "python",
   "name": "python3"
  },
  "language_info": {
   "codemirror_mode": {
    "name": "ipython",
    "version": 3
   },
   "file_extension": ".py",
   "mimetype": "text/x-python",
   "name": "python",
   "nbconvert_exporter": "python",
   "pygments_lexer": "ipython3",
   "version": "3.10.0"
  }
 },
 "nbformat": 4,
 "nbformat_minor": 2
}
